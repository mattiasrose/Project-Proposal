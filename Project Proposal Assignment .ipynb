{
 "cells": [
  {
   "cell_type": "markdown",
   "id": "89fb6c9d",
   "metadata": {},
   "source": [
    "Individual Project Proposal Assignment \n",
    "\n",
    "\n",
    "- Research Question: \n",
    "\n",
    "To what extent does the time spent on non-educational video games hold significance for academic performance in students?  \n",
    "\n",
    "- Variables: \n",
    "\n",
    "Independent Variable: Hours spent playing non-educational video games per week \n",
    "\n",
    "Visualization method: A histogram can be used here, showing us the frequency of students in each gaming hour category, where categorical ranges of hours would be used (example: 0-5 hours, 6-10 hours etc) as bins\n",
    "\n",
    "Dependent Variable: GPA or average grades across core subjects \n",
    "\n",
    "Visualization method: A scatter plot can be used here, showing us the relationship between gaming hours and GPA, which may prove useful in identifying any trends/correlations \n",
    "\n",
    "- Analysis: \n",
    "\n",
    "For the analysis, we can use linear regression to assess whether or not there is a significant relationship between the time spent playing non-educational video games and GPA. \n",
    "\n",
    "Assumptions can include: \n",
    "\n",
    "\n",
    "1). Linearity: There is a linear relationship between gaming hours and GPA. \n",
    "2). Independent Observations: Each student (data point) should be independent of the others. \n",
    "3). Homoscedasticity: The variance of residuals is constant across all levels of gaming hours. \n",
    "4). Normality: The residuals are normally distributed. \n",
    "\n",
    "- Hypothesis/Results and Discussion: \n",
    "\n",
    "\"The higher the amount of time spent on non-educational video games, the more significant the impact on a student's academic performance across all core subject areas will be, as gaming will most likely hold an influence on a student's study habit and time allocated towards studying.\"\n",
    "\n",
    "This analysis will would help us determine whether or not if gaming hours correlate with GPA, and may provide insights that would be beneficial to educators, parents and students. \n"
   ]
  },
  {
   "cell_type": "markdown",
   "id": "cf1137ca",
   "metadata": {},
   "source": [
    "Course Project Group Team: \n",
    "\n",
    "Mattias Rose \n",
    "Juho Jang\n",
    "Jeffery Lee"
   ]
  }
 ],
 "metadata": {
  "kernelspec": {
   "display_name": "Python 3 (ipykernel)",
   "language": "python",
   "name": "python3"
  },
  "language_info": {
   "codemirror_mode": {
    "name": "ipython",
    "version": 3
   },
   "file_extension": ".py",
   "mimetype": "text/x-python",
   "name": "python",
   "nbconvert_exporter": "python",
   "pygments_lexer": "ipython3",
   "version": "3.11.6"
  }
 },
 "nbformat": 4,
 "nbformat_minor": 5
}
