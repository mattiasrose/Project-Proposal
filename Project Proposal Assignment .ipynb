{
 "cells": [
  {
   "cell_type": "markdown",
   "id": "89fb6c9d",
   "metadata": {},
   "source": [
    "Individual Project Proposal Assignment \n",
    "\n",
    "- Research Question 1: \n",
    "To what extent does the time spent on non-educational video games hold significance for academic performance in students?  \n",
    "\n",
    "- Variables 1: \n",
    "Independent Variable: Hours spent playing non-educational video games per week \n",
    "Visualization method: A histogram can be used here, showing us the frequency of students in each gaming hour category, where categorical ranges of hours would be used (example: 0-5 hours, 6-10 hours, etc.) as bins\n",
    "Dependent Variable: GPA or average grades across core subjects \n",
    "Visualization method: A scatter plot can be used here, showing us the relationship between gaming hours and GPA, which may prove useful in identifying any trends/correlations \n",
    "\n",
    "- Analysis 1:\n",
    "Method: We can use linear regression to assess whether or not there is a significant relationship between the time spent playing non-educational video games and GPA. \n",
    "Assumptions include:\n",
    "1). Linearity: There is a linear relationship between gaming hours and GPA. \n",
    "2). Independent Observations: Each student (data point) should be independent of the others. \n",
    "3). Homoscedasticity: The variance of residuals is constant across all levels of gaming hours. \n",
    "4). Normality: The residuals are normally distributed. \n",
    "\n",
    "- Hypothesis/Results and Discussion 1: \n",
    "\"The higher the amount of time spent on non-educational video games, the more significant the impact on a student's academic performance across all core subject areas will be, as gaming will most likely hold an influence on a student's study habit and time allocated towards studying.\"\n",
    "This analysis will help us determine whether gaming hours correlate with GPA, and may provide insights that would be beneficial to educators, parents, and students. \n",
    "\n",
    "- Research Question 2: \n",
    "How does daily exercise duration affect mental well-being in college students? \n",
    "\n",
    "- Variables 2: \n",
    "Independent Variable: Daily exercise duration (in minutes)  \n",
    "Visualization method: A histogram can be used to display the distribution of exercise durations across students. Bins could represent ranges such as 0-15 minutes, 16-30 minutes, etc., showing the most common exercise durations among students.\n",
    "Dependent Variable: Mental well-being score (using Likert scale) \n",
    "Visualization method: A scatter plot can be used here to show the relationship between daily exercise duration and well-being scores, which may help to identify any trends and patterns.\n",
    "\n",
    "- Analysis 2: \n",
    "Method: Linear regression will be used to assess if there is a significant relationship between daily exercise duration and mental well-being. \n",
    "Assumptions include:\n",
    "1). Linearity: There is a linear relationship between daily exercise duration and mental well-being scores.\n",
    "2). Independent Observations: Each student (data point) should be independent of the others.\n",
    "3). Homoscedasticity: The variance of residuals is constant across all levels of exercise duration.\n",
    "4). Normality: The residuals are normally distributed.\n",
    "\n",
    "- Hypothesis/Results and Discussion 2: \n",
    "\"Higher screen time before bed is associated with lower sleep quality, as excessive screen exposure may disrupt sleep patterns and decrease restfulness.\"\n",
    "This analysis could provide actionable insights for adults looking to improve sleep quality, encouraging reduced screen time before bed to enhance restfulness.\n",
    "\n",
    "- Research Question 3: \n",
    "How does caffeine intake affect focus and productivity levels in office workers?\n",
    "\n",
    "- Variables 3: \n",
    "Independent Variable: Daily caffeine intake (in milligrams)\n",
    "Visualization method: A histogram can be used to show the distribution of daily caffeine intake among workers. Bins could represent ranges like 0-100 mg, 101-200 mg, etc., making it easy to see the most common caffeine consumption levels.\n",
    "Dependent Variable: Focus and productivity score, measured using a standardized productivity assessment or self-reported focus rating (e.g., on a scale of 1-10).\n",
    "Visualization method: A scatter plot to show the relationship between caffeine intake and productivity scores, allowing identification of any trends or correlations.\n",
    "\n",
    "- Analysis 3: \n",
    "Method: Linear regression will be used to assess if there is a significant relationship between caffeine intake and productivity levels.\n",
    "Assumptions include:\n",
    "1). Linearity: There is a linear relationship between daily caffeine intake and productivity scores.\n",
    "2). Independent Observations: Each worker’s data (caffeine intake and productivity score) should be independent of the others.\n",
    "3). Homoscedasticity: The variance of residuals is constant across all levels of caffeine intake.\n",
    "4). Normality: The residuals are normally distributed.\n",
    "\n",
    "- Hypothesis/Results and Discussion 3: \n",
    "\"Higher caffeine intake is associated with increased productivity and focus, as caffeine may enhance alertness and concentration.\"\n",
    "This analysis could offer insights for office workers aiming to optimize their caffeine consumption for productivity or help employers understand how caffeine might influence performance.\n"
   ]
  },
  {
   "cell_type": "markdown",
   "id": "cf1137ca",
   "metadata": {},
   "source": [
    "Course Project Group Team: \n",
    "\n",
    "Mattias Rose \n",
    "Juho Jang\n",
    "Jeffery Lee"
   ]
  }
 ],
 "metadata": {
  "kernelspec": {
   "display_name": "Python 3 (ipykernel)",
   "language": "python",
   "name": "python3"
  },
  "language_info": {
   "codemirror_mode": {
    "name": "ipython",
    "version": 3
   },
   "file_extension": ".py",
   "mimetype": "text/x-python",
   "name": "python",
   "nbconvert_exporter": "python",
   "pygments_lexer": "ipython3",
   "version": "3.11.6"
  }
 },
 "nbformat": 4,
 "nbformat_minor": 5
}

